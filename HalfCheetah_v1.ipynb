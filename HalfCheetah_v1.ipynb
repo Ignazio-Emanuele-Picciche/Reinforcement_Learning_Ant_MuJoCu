{
 "cells": [
  {
   "cell_type": "code",
   "execution_count": 1,
   "metadata": {},
   "outputs": [],
   "source": [
    "import gymnasium as gym\n",
    "from stable_baselines3 import PPO\n",
    "from stable_baselines3.common.vec_env import DummyVecEnv, VecNormalize\n",
    "import numpy as np"
   ]
  },
  {
   "cell_type": "code",
   "execution_count": 2,
   "metadata": {},
   "outputs": [],
   "source": [
    "def make_env():\n",
    "    # HalfCheetah-v5 è l’ambiente più recente in Gymnasium.\n",
    "    # Se hai un’altra versione, per esempio con Gym classico, potresti dover usare \"HalfCheetah-v2\" o \"HalfCheetah-v4\".\n",
    "    return gym.make(\"HalfCheetah-v5\", reset_noise_scale=0.1, render_mode=None)"
   ]
  },
  {
   "cell_type": "code",
   "execution_count": 3,
   "metadata": {},
   "outputs": [],
   "source": [
    "# 1. Creiamo un Vectorized Environment\n",
    "env = DummyVecEnv([make_env])  \n",
    "# 2. (Opzionale ma consigliato) Normalizziamo osservazioni e reward\n",
    "env = VecNormalize(env, norm_obs=True, norm_reward=True, clip_obs=10.)"
   ]
  },
  {
   "cell_type": "code",
   "execution_count": 4,
   "metadata": {},
   "outputs": [],
   "source": [
    "# 3. Definiamo il modello RL (PPO)\n",
    "model = PPO(\n",
    "    policy=\"MlpPolicy\", \n",
    "    env=env, \n",
    "    learning_rate=3e-4,\n",
    "    n_steps=2048,\n",
    "    batch_size=64,\n",
    "    n_epochs=10,\n",
    "    gamma=0.99,\n",
    "    gae_lambda=0.95,\n",
    "    clip_range=0.2,\n",
    "    ent_coef=0.0,\n",
    "    verbose=0,\n",
    "    # tensorboard_log=\"./ppo_halfcheetah_tensorboard/\"\n",
    ")"
   ]
  },
  {
   "cell_type": "code",
   "execution_count": 5,
   "metadata": {},
   "outputs": [
    {
     "data": {
      "text/plain": [
       "<stable_baselines3.ppo.ppo.PPO at 0x153f26170>"
      ]
     },
     "execution_count": 5,
     "metadata": {},
     "output_type": "execute_result"
    }
   ],
   "source": [
    "# 4. Alleniamo il modello\n",
    "total_timesteps = 1_000_000  # puoi aumentare questo valore\n",
    "model.learn(total_timesteps=total_timesteps)\n"
   ]
  },
  {
   "cell_type": "code",
   "execution_count": 6,
   "metadata": {},
   "outputs": [],
   "source": [
    "#5. Salviamo il modello\n",
    "model.save(\"ppo_halfcheetah_model\")\n",
    "env.save(\"vecnormalize_halfcheetah.pkl\")  # salviamo anche i parametri di normalizzazione"
   ]
  },
  {
   "cell_type": "code",
   "execution_count": 7,
   "metadata": {},
   "outputs": [],
   "source": [
    "# 6. Valutazione\n",
    "#    Ora creiamo un nuovo ambiente per il rendering\n",
    "eval_env = gym.make(\"HalfCheetah-v5\", reset_noise_scale=0.1)\n",
    "                    # , render_mode=\"human\")"
   ]
  },
  {
   "cell_type": "code",
   "execution_count": 8,
   "metadata": {},
   "outputs": [],
   "source": [
    "# Ricreiamo il wrapper di normalizzazione con i parametri salvati\n",
    "eval_env = DummyVecEnv([lambda: eval_env])\n",
    "eval_env = VecNormalize.load(\"vecnormalize_halfcheetah.pkl\", eval_env)\n",
    "eval_env.training = False\n",
    "eval_env.norm_reward = False  # In valutazione di solito non normalizziamo la reward\n"
   ]
  },
  {
   "cell_type": "code",
   "execution_count": 9,
   "metadata": {},
   "outputs": [
    {
     "name": "stdout",
     "output_type": "stream",
     "text": [
      "Ricompensa totale episodio: 0.20572304725646973\n"
     ]
    }
   ],
   "source": [
    "obs = eval_env.reset()\n",
    "episode_reward = 0.0\n",
    "done = False\n",
    "\n",
    "while not done:\n",
    "    # azioni deterministiche in valutazione\n",
    "    action, _states = model.predict(obs, deterministic=True)\n",
    "    # obs, reward, terminated, truncated, info = eval_env.step(action)\n",
    "    observation, reward, terminated, truncated = eval_env.step(action)\n",
    "    episode_reward += reward[0]  # reward è un array nel vectorized env\n",
    "    done = terminated or truncated\n",
    "\n",
    "print(\"Ricompensa totale episodio:\", episode_reward)\n",
    "eval_env.close()"
   ]
  }
 ],
 "metadata": {
  "kernelspec": {
   "display_name": ".venv",
   "language": "python",
   "name": "python3"
  },
  "language_info": {
   "codemirror_mode": {
    "name": "ipython",
    "version": 3
   },
   "file_extension": ".py",
   "mimetype": "text/x-python",
   "name": "python",
   "nbconvert_exporter": "python",
   "pygments_lexer": "ipython3",
   "version": "3.10.10"
  }
 },
 "nbformat": 4,
 "nbformat_minor": 2
}
