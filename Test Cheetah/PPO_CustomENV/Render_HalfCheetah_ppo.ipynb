{
 "cells": [
  {
   "cell_type": "code",
   "execution_count": 1,
   "metadata": {},
   "outputs": [
    {
     "name": "stderr",
     "output_type": "stream",
     "text": [
      "2025-02-20 19:01:37.344 Python[43623:2512454] +[IMKClient subclass]: chose IMKClient_Modern\n",
      "2025-02-20 19:01:37.344 Python[43623:2512454] +[IMKInputSession subclass]: chose IMKInputSession_Modern\n",
      "/Users/fabiodigregorio/Desktop/campus bio iscrizione/ Magistrale/Merone/RL/Reinforcement_Learning_Ant_MuJoCu/venv/lib/python3.10/site-packages/glfw/__init__.py:917: GLFWError: (65537) b'The GLFW library is not initialized'\n",
      "  warnings.warn(message, GLFWError)\n"
     ]
    },
    {
     "ename": "KeyboardInterrupt",
     "evalue": "",
     "output_type": "error",
     "traceback": [
      "\u001b[0;31m---------------------------------------------------------------------------\u001b[0m",
      "\u001b[0;31mKeyboardInterrupt\u001b[0m                         Traceback (most recent call last)",
      "Cell \u001b[0;32mIn[1], line 28\u001b[0m\n\u001b[1;32m     26\u001b[0m     obs, _, done, _, _ \u001b[38;5;241m=\u001b[39m render_env\u001b[38;5;241m.\u001b[39mstep(action)\n\u001b[1;32m     27\u001b[0m     render_env\u001b[38;5;241m.\u001b[39mrender()\n\u001b[0;32m---> 28\u001b[0m     \u001b[43mtime\u001b[49m\u001b[38;5;241;43m.\u001b[39;49m\u001b[43msleep\u001b[49m\u001b[43m(\u001b[49m\u001b[38;5;241;43m0.01\u001b[39;49m\u001b[43m)\u001b[49m\n\u001b[1;32m     30\u001b[0m \u001b[38;5;66;03m# Chiusura dell'ambiente\u001b[39;00m\n\u001b[1;32m     31\u001b[0m render_env\u001b[38;5;241m.\u001b[39mclose()\n",
      "\u001b[0;31mKeyboardInterrupt\u001b[0m: "
     ]
    }
   ],
   "source": [
    "import gymnasium as gym\n",
    "import time\n",
    "from stable_baselines3 import PPO\n",
    "\n",
    "# Caricamento del modello\n",
    "model = PPO.load(\"ppo_HalfCheetah_model\")\n",
    "\n",
    "# Creazione dell'ambiente per il rendering\n",
    "render_env = gym.make(\"HalfCheetah-v5\",\n",
    "                        reset_noise_scale=0.18925327466415615,\n",
    "                        forward_reward_weight=1.158890288504633,\n",
    "                        ctrl_cost_weight=0.05108108521573771,\n",
    "                        render_mode='human')\n",
    "\n",
    "# Disattivazione della modalità di training\n",
    "render_env.training = False\n",
    "render_env.norm_reward = False\n",
    "\n",
    "# Reset dell'ambiente\n",
    "obs, _ = render_env.reset()\n",
    "done = False\n",
    "\n",
    "# Loop per eseguire il rendering\n",
    "while not done:\n",
    "    action, _ = model.predict(obs)\n",
    "    obs, _, done, _, _ = render_env.step(action)\n",
    "    render_env.render()\n",
    "    time.sleep(0.01)\n",
    "\n",
    "# Chiusura dell'ambiente\n",
    "render_env.close()"
   ]
  }
 ],
 "metadata": {
  "kernelspec": {
   "display_name": "venv",
   "language": "python",
   "name": "python3"
  },
  "language_info": {
   "codemirror_mode": {
    "name": "ipython",
    "version": 3
   },
   "file_extension": ".py",
   "mimetype": "text/x-python",
   "name": "python",
   "nbconvert_exporter": "python",
   "pygments_lexer": "ipython3",
   "version": "3.10.16"
  }
 },
 "nbformat": 4,
 "nbformat_minor": 2
}
