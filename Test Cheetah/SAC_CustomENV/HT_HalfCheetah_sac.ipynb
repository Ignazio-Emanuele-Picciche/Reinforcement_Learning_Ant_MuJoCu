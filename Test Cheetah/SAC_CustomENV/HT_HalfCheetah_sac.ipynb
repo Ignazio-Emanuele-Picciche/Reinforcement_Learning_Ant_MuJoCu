{
 "cells": [
  {
   "cell_type": "code",
   "execution_count": 3,
   "metadata": {},
   "outputs": [],
   "source": [
    "import gymnasium as gym\n",
    "from stable_baselines3 import SAC\n",
    "from stable_baselines3.common.vec_env import DummyVecEnv, VecNormalize\n",
    "from stable_baselines3.common.evaluation import evaluate_policy\n",
    "import optuna"
   ]
  },
  {
   "cell_type": "code",
   "execution_count": 4,
   "metadata": {},
   "outputs": [
    {
     "name": "stderr",
     "output_type": "stream",
     "text": [
      "[I 2025-02-23 11:24:46,254] A new study created in memory with name: no-name-b33fca77-e850-4764-a581-1497a2aa5a6c\n",
      "/var/folders/d5/8f8lxk3x1gddrb19zv8xl57m0000gn/T/ipykernel_61413/3614903701.py:23: FutureWarning: suggest_loguniform has been deprecated in v3.0.0. This feature will be removed in v6.0.0. See https://github.com/optuna/optuna/releases/tag/v3.0.0. Use suggest_float(..., log=True) instead.\n",
      "  learning_rate = trial.suggest_loguniform('learning_rate', 1e-6, 1e-3)\n"
     ]
    }
   ],
   "source": [
    "def make_env(reset_noise_scale, forward_reward_weight, ctrl_cost_weight):\n",
    "    \"\"\"\n",
    "    Crea e restituisce l'ambiente HalfCheetah-v5 dalla libreria Gymnasium con i parametri specificati.\n",
    "    \"\"\"\n",
    "    return gym.make(\"HalfCheetah-v5\", \n",
    "                    reset_noise_scale=reset_noise_scale, \n",
    "                    forward_reward_weight=forward_reward_weight, \n",
    "                    ctrl_cost_weight=ctrl_cost_weight)\n",
    "\n",
    "# Hyperparameter tuning con Optuna per SAC\n",
    "def objective(trial):\n",
    "    # Parametri dell'environment\n",
    "    reset_noise_scale = trial.suggest_float('reset_noise_scale', 0.005, 0.3)  \n",
    "    forward_reward_weight = trial.suggest_float('forward_reward_weight', 0.7, 1.5)\n",
    "    ctrl_cost_weight = trial.suggest_float('ctrl_cost_weight', 0.02, 0.3)\n",
    "\n",
    "    # Crea l'ambiente\n",
    "    env = make_env(reset_noise_scale, forward_reward_weight, ctrl_cost_weight)\n",
    "    env = DummyVecEnv([lambda: env])\n",
    "    env = VecNormalize(env, norm_obs=True, norm_reward=True, clip_obs=10.)\n",
    "\n",
    "    # Iperparametri per il modello SAC\n",
    "    learning_rate = trial.suggest_loguniform('learning_rate', 1e-6, 1e-3)\n",
    "    buffer_size = trial.suggest_categorical('buffer_size', [100000, 300000, 500000])\n",
    "    batch_size = trial.suggest_categorical('batch_size', [64, 128, 256, 512])\n",
    "    tau = trial.suggest_float('tau', 0.005, 0.02)\n",
    "    gamma = trial.suggest_float('gamma', 0.95, 0.9999)\n",
    "\n",
    "    # Per l’entropia, possiamo scegliere tra un coefficiente fisso oppure \"auto\"\n",
    "    # Se si desidera variare su diversi valori, possiamo usare una scelta categoriale\n",
    "    ent_coef = trial.suggest_categorical('ent_coef', ['auto', 0.001, 0.01, 0.05])\n",
    "\n",
    "    # Frequenza di training e gradient steps\n",
    "    train_freq = trial.suggest_categorical('train_freq', [1, 64, 256, 512])\n",
    "    gradient_steps = trial.suggest_categorical('gradient_steps', [1, 8, 16, 32])\n",
    "\n",
    "    # Crea ed allena il modello SAC\n",
    "    model = SAC(\n",
    "        \"MlpPolicy\",\n",
    "        env,\n",
    "        learning_rate=learning_rate,\n",
    "        buffer_size=buffer_size,\n",
    "        batch_size=batch_size,\n",
    "        tau=tau,\n",
    "        gamma=gamma,\n",
    "        train_freq=train_freq,          # Quante azioni eseguite prima di un update\n",
    "        gradient_steps=gradient_steps,  # Numero di passate di gradienti dopo ogni train_freq\n",
    "        ent_coef=ent_coef,\n",
    "        verbose=0,\n",
    "    )\n",
    "\n",
    "    model.learn(total_timesteps=50_000)\n",
    "\n",
    "    # Disabilita gli aggiornamenti di normalizzazione per la valutazione\n",
    "    env.training = False\n",
    "    env.norm_reward = False\n",
    "\n",
    "    # Valuta il modello su 100 episodi in modo deterministico\n",
    "    mean_reward, _ = evaluate_policy(model, env, n_eval_episodes=100, deterministic=True)\n",
    "\n",
    "    print(f'Mean reward: {mean_reward}')\n",
    "    return mean_reward\n",
    "\n",
    "# Crea lo studio Optuna e ottimizza l'obiettivo\n",
    "study = optuna.create_study(direction='maximize')\n",
    "study.optimize(objective, n_trials=50)\n",
    "\n",
    "# Stampa i migliori iperparametri trovati\n",
    "print(\"Best hyperparameters:\", study.best_params)\n"
   ]
  }
 ],
 "metadata": {
  "kernelspec": {
   "display_name": "venv",
   "language": "python",
   "name": "python3"
  },
  "language_info": {
   "codemirror_mode": {
    "name": "ipython",
    "version": 3
   },
   "file_extension": ".py",
   "mimetype": "text/x-python",
   "name": "python",
   "nbconvert_exporter": "python",
   "pygments_lexer": "ipython3",
   "version": "3.10.16"
  }
 },
 "nbformat": 4,
 "nbformat_minor": 2
}
