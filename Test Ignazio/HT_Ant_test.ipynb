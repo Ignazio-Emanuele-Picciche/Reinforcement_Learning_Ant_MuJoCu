{
 "cells": [
  {
   "cell_type": "code",
   "execution_count": null,
   "metadata": {},
   "outputs": [],
   "source": [
    "import gymnasium as gym\n",
    "from stable_baselines3 import PPO\n",
    "from stable_baselines3.common.vec_env import DummyVecEnv, VecNormalize\n",
    "import numpy as np\n",
    "import tensorboard\n",
    "import optuna"
   ]
  },
  {
   "cell_type": "code",
   "execution_count": null,
   "metadata": {},
   "outputs": [],
   "source": [
    "def make_env(reset_noise_scale, forward_reward_weight, ctrl_cost_weight, healthy_reward):\n",
    "    \"\"\"\n",
    "    Crea e restituisce l'ambiente Ant-v5 dalla libreria Gymnasium.\n",
    "\n",
    "    Questa funzione istanzia l'ambiente \"Ant-v5\", uno degli ambienti recenti e ben supportati\n",
    "    in Gymnasium. I parametri usati sono:\n",
    "    - reset_noise_scale (0.1): determina la scala del rumore quando l'ambiente viene resettato.\n",
    "    - render_mode ('None'): indica che non verrà effettuato il rendering durante l'esecuzione.\n",
    "\n",
    "    Ritorna:\n",
    "        gym.Env: l'ambiente Ant-v5 inizializzato.\n",
    "    \"\"\"\n",
    "    \n",
    "    # Ant-v5 è l’ambiente più recente in Gymnasium.\n",
    "    return gym.make(\"Ant-v5\", \n",
    "                    reset_noise_scale=reset_noise_scale, \n",
    "                    forward_reward_weight=forward_reward_weight, \n",
    "                    ctrl_cost_weight=ctrl_cost_weight, \n",
    "                    healthy_reward=healthy_reward, \n",
    "                    render_mode='None')"
   ]
  },
  {
   "cell_type": "code",
   "execution_count": null,
   "metadata": {},
   "outputs": [],
   "source": [
    "# Hyperparameter tuning con Optuna\n",
    "\n",
    "def objective(trial):\n",
    "    # Definisci lo spazio di ricerca degli iperparametri\n",
    "    reset_noise_scale = trial.suggest_float('reset_noise_scale', 0.0, 1.0)\n",
    "    forward_reward_weight = trial.suggest_float('forward_reward_weight', 0.0, 1.0)\n",
    "    ctrl_cost_weight = trial.suggest_float('ctrl_cost_weight', 0.0, 1.0)\n",
    "    healthy_reward = trial.suggest_float('healthy_reward', 0.0, 1.0)\n",
    "    \n",
    "    # Crea l'ambiente con gli iperparametri suggeriti\n",
    "    env = make_env(reset_noise_scale, forward_reward_weight, ctrl_cost_weight, healthy_reward)\n",
    "    env = DummyVecEnv([lambda: env])\n",
    "    \n",
    "    # Definisci altri iperparametri del modello\n",
    "    learning_rate = trial.suggest_loguniform('learning_rate', 1e-5, 1e-3)\n",
    "    n_steps = trial.suggest_int('n_steps', 2048, 8192, step=2048)\n",
    "    batch_size = trial.suggest_categorical('batch_size', [64, 128, 256])\n",
    "    gamma = trial.suggest_float('gamma', 0.9, 0.9999)\n",
    "    \n",
    "    # Crea il modello PPO\n",
    "    model = PPO(\"MlpPolicy\", env, learning_rate=learning_rate, n_steps=n_steps, batch_size=batch_size, gamma=gamma, verbose=0)\n",
    "    \n",
    "    # Addestra il modello\n",
    "    model.learn(total_timesteps=10000)\n",
    "    \n",
    "    # Valuta il modello\n",
    "    episodes = 10\n",
    "    episode_rewards = []\n",
    "    for episode in range(episodes):\n",
    "        obs = env.reset()\n",
    "        done = False\n",
    "        episode_reward = 0\n",
    "        while not done:\n",
    "            action, _states = model.predict(obs)\n",
    "            obs, reward, done, info = env.step(action)\n",
    "            episode_reward += reward\n",
    "        episode_rewards.append(episode_reward)\n",
    "    \n",
    "    # Ritorna la ricompensa media come obiettivo\n",
    "    return np.mean(episode_rewards)\n",
    "\n",
    "# Crea uno studio Optuna e ottimizza l'obiettivo\n",
    "study = optuna.create_study(direction='maximize')\n",
    "study.optimize(objective, n_trials=100)\n",
    "\n",
    "# Stampa i migliori iperparametri trovati\n",
    "print(\"Best hyperparameters: \", study.best_params)"
   ]
  }
 ],
 "metadata": {
  "kernelspec": {
   "display_name": ".venv",
   "language": "python",
   "name": "python3"
  },
  "language_info": {
   "name": "python",
   "version": "3.10.16"
  }
 },
 "nbformat": 4,
 "nbformat_minor": 2
}
