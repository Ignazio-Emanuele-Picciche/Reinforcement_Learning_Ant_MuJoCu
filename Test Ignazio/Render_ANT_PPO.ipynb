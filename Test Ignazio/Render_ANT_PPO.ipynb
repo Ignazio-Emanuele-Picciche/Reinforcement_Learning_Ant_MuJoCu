{
 "cells": [
  {
   "cell_type": "code",
   "execution_count": 1,
   "metadata": {},
   "outputs": [],
   "source": [
    "import gymnasium as gym\n",
    "from stable_baselines3 import PPO\n",
    "import time"
   ]
  },
  {
   "cell_type": "code",
   "execution_count": 2,
   "metadata": {},
   "outputs": [],
   "source": [
    "# Ipreparametri dell'envrionment\n",
    "hp_reset_noise_scale= 0.1224648700491494 # scala del rumore quando l'ambiente viene resettato \n",
    "hp_forward_reward_weight = 1.0798217517026751 # peso del reward per il movimento in avanti\n",
    "hp_ctrl_cost_weight = 0.2788960190947023 # peso del reward per il controllo\n",
    "hp_healthy_reward = 1.4972086156641724 # reward per la salute\n",
    "\n",
    "hp_contact_cost_weight = 0.00019495257535118138\n",
    "healthy_z = (0.10525289571959973, 1.1803240798353063)\n",
    "contact_force = (-0.5187992701613672, 0.5870857431066443)"
   ]
  },
  {
   "cell_type": "code",
   "execution_count": 3,
   "metadata": {},
   "outputs": [],
   "source": [
    "env_render = gym.make(\n",
    "    \"Ant-v5\",\n",
    "    reset_noise_scale=hp_reset_noise_scale,\n",
    "    forward_reward_weight=hp_forward_reward_weight,\n",
    "    ctrl_cost_weight=hp_ctrl_cost_weight,\n",
    "    healthy_reward=hp_healthy_reward,\n",
    "    contact_cost_weight=hp_contact_cost_weight,\n",
    "    healthy_z_range=healthy_z,\n",
    "    contact_force_range=contact_force,\n",
    "    render_mode='human'\n",
    ")"
   ]
  },
  {
   "cell_type": "code",
   "execution_count": 4,
   "metadata": {},
   "outputs": [],
   "source": [
    "env_render.training = False # Setta l'environment in modalità di valutazione\n",
    "env_render.norm_reward = False # Disabilita la normalizzazione della reward. Questo è importante per valutare correttamente il modello."
   ]
  },
  {
   "cell_type": "code",
   "execution_count": 5,
   "metadata": {},
   "outputs": [
    {
     "name": "stderr",
     "output_type": "stream",
     "text": [
      "2025-02-13 14:01:35.475 Python[8623:326402] +[IMKClient subclass]: chose IMKClient_Modern\n",
      "2025-02-13 14:01:35.475 Python[8623:326402] +[IMKInputSession subclass]: chose IMKInputSession_Modern\n"
     ]
    },
    {
     "ename": "",
     "evalue": "",
     "output_type": "error",
     "traceback": [
      "\u001b[1;31mThe Kernel crashed while executing code in the current cell or a previous cell. \n",
      "\u001b[1;31mPlease review the code in the cell(s) to identify a possible cause of the failure. \n",
      "\u001b[1;31mClick <a href='https://aka.ms/vscodeJupyterKernelCrash'>here</a> for more info. \n",
      "\u001b[1;31mView Jupyter <a href='command:jupyter.viewOutput'>log</a> for further details."
     ]
    }
   ],
   "source": [
    "model = PPO.load(\"ppo_Ant_model\")  # Carica il modello salvato\n",
    "obs, _ = env_render.reset()\n",
    "done = False\n",
    "while not done:\n",
    "    action, _ = model.predict(obs)  # Use obs directly\n",
    "    obs, _, done, _, _ = env_render.step(action)  # Unpack the tuple correctly\n",
    "    env_render.render()\n",
    "    time.sleep(0.01)\n",
    "env_render.close()"
   ]
  },
  {
   "cell_type": "code",
   "execution_count": null,
   "metadata": {},
   "outputs": [],
   "source": []
  }
 ],
 "metadata": {
  "kernelspec": {
   "display_name": ".venv",
   "language": "python",
   "name": "python3"
  },
  "language_info": {
   "codemirror_mode": {
    "name": "ipython",
    "version": 3
   },
   "file_extension": ".py",
   "mimetype": "text/x-python",
   "name": "python",
   "nbconvert_exporter": "python",
   "pygments_lexer": "ipython3",
   "version": "3.10.16"
  }
 },
 "nbformat": 4,
 "nbformat_minor": 2
}
