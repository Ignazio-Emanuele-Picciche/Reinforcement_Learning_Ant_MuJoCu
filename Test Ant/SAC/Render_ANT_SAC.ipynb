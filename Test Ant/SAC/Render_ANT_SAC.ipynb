{
 "cells": [
  {
   "cell_type": "code",
   "execution_count": 1,
   "metadata": {},
   "outputs": [],
   "source": [
    "import gymnasium as gym\n",
    "from stable_baselines3 import SAC\n",
    "import time"
   ]
  },
  {
   "cell_type": "code",
   "execution_count": 2,
   "metadata": {},
   "outputs": [],
   "source": [
    "# Ipreparametri dell'envrionment\n",
    "hp_reset_noise_scale= 0.20141630762026747 # scala del rumore quando l'ambiente viene resettato \n",
    "hp_forward_reward_weight = 1.6278491287471968 # peso del reward per il movimento in avanti\n",
    "hp_ctrl_cost_weight = 1.2763028508139123 # peso del reward per il controllo\n",
    "hp_healthy_reward = 2.399103414226093 # reward per la salute\n",
    "\n",
    "hp_contact_cost_weight = 5.2247028604018e-06\n",
    "healthy_z = (0.16940418341206293, 1.3272275689129294)\n",
    "contact_force = (-1.2110815310071597, 0.8982646857233315)"
   ]
  },
  {
   "cell_type": "code",
   "execution_count": 3,
   "metadata": {},
   "outputs": [],
   "source": [
    "env_render = gym.make(\n",
    "    \"Ant-v5\",\n",
    "    reset_noise_scale=hp_reset_noise_scale,\n",
    "    forward_reward_weight=hp_forward_reward_weight,\n",
    "    ctrl_cost_weight=hp_ctrl_cost_weight,\n",
    "    healthy_reward=hp_healthy_reward,\n",
    "    contact_cost_weight=hp_contact_cost_weight,\n",
    "    healthy_z_range=healthy_z,\n",
    "    contact_force_range=contact_force,\n",
    "    render_mode='human'\n",
    ")"
   ]
  },
  {
   "cell_type": "code",
   "execution_count": 4,
   "metadata": {},
   "outputs": [],
   "source": [
    "env_render.training = False # Setta l'environment in modalità di valutazione\n",
    "env_render.norm_reward = False # Disabilita la normalizzazione della reward. Questo è importante per valutare correttamente il modello."
   ]
  },
  {
   "cell_type": "code",
   "execution_count": 5,
   "metadata": {},
   "outputs": [
    {
     "name": "stderr",
     "output_type": "stream",
     "text": [
      "2025-02-18 09:02:12.540 Python[65918:2586558] +[IMKClient subclass]: chose IMKClient_Modern\n",
      "2025-02-18 09:02:12.540 Python[65918:2586558] +[IMKInputSession subclass]: chose IMKInputSession_Modern\n",
      "/Users/ignazioemanuelepicciche/Documents/Ignazio PC/ucbm/deep_learning/Reinforcement_Learning_MuJoCu/.venv/lib/python3.10/site-packages/glfw/__init__.py:917: GLFWError: (65537) b'The GLFW library is not initialized'\n",
      "  warnings.warn(message, GLFWError)\n"
     ]
    },
    {
     "ename": "KeyboardInterrupt",
     "evalue": "",
     "output_type": "error",
     "traceback": [
      "\u001b[0;31m---------------------------------------------------------------------------\u001b[0m",
      "\u001b[0;31mKeyboardInterrupt\u001b[0m                         Traceback (most recent call last)",
      "Cell \u001b[0;32mIn[5], line 8\u001b[0m\n\u001b[1;32m      6\u001b[0m     obs, _, done, _, _ \u001b[38;5;241m=\u001b[39m env_render\u001b[38;5;241m.\u001b[39mstep(action)  \u001b[38;5;66;03m# Unpack the tuple correctly\u001b[39;00m\n\u001b[1;32m      7\u001b[0m     env_render\u001b[38;5;241m.\u001b[39mrender()\n\u001b[0;32m----> 8\u001b[0m     \u001b[43mtime\u001b[49m\u001b[38;5;241;43m.\u001b[39;49m\u001b[43msleep\u001b[49m\u001b[43m(\u001b[49m\u001b[38;5;241;43m0.01\u001b[39;49m\u001b[43m)\u001b[49m\n\u001b[1;32m      9\u001b[0m env_render\u001b[38;5;241m.\u001b[39mclose()\n",
      "\u001b[0;31mKeyboardInterrupt\u001b[0m: "
     ]
    }
   ],
   "source": [
    "model = SAC.load(\"sac_Ant_model\")  # Carica il modello salvato\n",
    "obs, _ = env_render.reset()\n",
    "done = False\n",
    "while not done:\n",
    "    action, _ = model.predict(obs)  # Use obs directly\n",
    "    obs, _, done, _, _ = env_render.step(action)  # Unpack the tuple correctly\n",
    "    env_render.render()\n",
    "    time.sleep(0.01)\n",
    "env_render.close()"
   ]
  },
  {
   "cell_type": "code",
   "execution_count": null,
   "metadata": {},
   "outputs": [],
   "source": []
  }
 ],
 "metadata": {
  "kernelspec": {
   "display_name": ".venv",
   "language": "python",
   "name": "python3"
  },
  "language_info": {
   "codemirror_mode": {
    "name": "ipython",
    "version": 3
   },
   "file_extension": ".py",
   "mimetype": "text/x-python",
   "name": "python",
   "nbconvert_exporter": "python",
   "pygments_lexer": "ipython3",
   "version": "3.10.16"
  }
 },
 "nbformat": 4,
 "nbformat_minor": 2
}
